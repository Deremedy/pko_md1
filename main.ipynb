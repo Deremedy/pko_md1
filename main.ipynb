{
 "cells": [
  {
   "cell_type": "code",
   "execution_count": null,
   "metadata": {},
   "outputs": [],
   "source": [
    "# Importing dependencies\n",
    "import osmnx as ox\n",
    "import networkx as nx\n",
    "import matplotlib.pyplot as plt\n",
    "import random\n",
    "from matplotlib.animation import FuncAnimation\n",
    "\n",
    "def generate_plot(graph):\n",
    "    fig, ax = ox.plot_graph(graph, node_color='blue', edge_linewidth=2, bgcolor='white', show=False)\n",
    "\n",
    "    # Add label with road length (m)\n",
    "    for u, v, key, data in graph.edges(keys=True, data=True):\n",
    "        if 'length' in data:\n",
    "            # Compute the midpoint of the edge\n",
    "            x1, y1 = graph.nodes[u]['x'], graph.nodes[u]['y']\n",
    "            x2, y2 = graph.nodes[v]['x'], graph.nodes[v]['y']\n",
    "            mid_x, mid_y = (x1 + x2) / 2, (y1 + y2) / 2\n",
    "            \n",
    "            # Round the length to whole number\n",
    "            label = str(round(data['length']))\n",
    "            ax.text(mid_x, mid_y, label, color='black', size=10, ha='center', va='center')\n",
    "\n",
    "def animate_graph_traversal(graph, traversal_path, filename='traversal.gif'):\n",
    "    fig, ax = ox.plot_graph(graph, node_color='none', edge_color='gray', show=False, close=False)\n",
    "\n",
    "    # A dictionary to store the count of traversals for each edge\n",
    "    edge_counts = {(u, v): 0 for u, v in graph.edges()}\n",
    "\n",
    "    # The colormap to convert traversal counts to colors\n",
    "    cmap = plt.cm.plasma\n",
    "\n",
    "    def update(frame):\n",
    "        u, v = traversal_path[frame]\n",
    "\n",
    "        # Increase the count for the edge\n",
    "        if (u, v) in edge_counts:\n",
    "            edge_counts[(u, v)] += 1\n",
    "        else:\n",
    "            edge_counts[(v, u)] += 1\n",
    "\n",
    "        # Determine the color for the edge based on its traversal count\n",
    "        max_count = max(edge_counts.values())\n",
    "        if (u, v) in edge_counts:\n",
    "            color = cmap(edge_counts[(u, v)] / max_count)\n",
    "        else:\n",
    "            color = cmap(edge_counts[(v, u)] / max_count)\n",
    "\n",
    "        # Plot the edge with the determined color\n",
    "        ox.plot_graph_route(graph, [u, v], route_linewidth=2, node_size=0, bgcolor='white', route_color=color, ax=ax)\n",
    "\n",
    "    ani = FuncAnimation(fig, update, frames=len(traversal_path), repeat=False)\n",
    "\n",
    "    # Save the animation as GIF\n",
    "    ani.save(filename, writer='pillow', fps=3)\n",
    "\n",
    "    plt.close(fig)\n",
    "\n",
    "def compare_graphs_by_connected_edges(graph1, graph2):\n",
    "    # Compare edge sets\n",
    "    if set(graph1.edges()) == set(graph2.edges()):\n",
    "        print('[OK] Graphs have identical connected edges')\n",
    "        return\n",
    "\n",
    "    print('[FAIL] Graphs DO NOT have identical connected edges')\n"
   ]
  },
  {
   "cell_type": "code",
   "execution_count": null,
   "metadata": {},
   "outputs": [],
   "source": [
    "# Download the road network graph\n",
    "lat, lon = 56.958141067669146, 24.12462850613549\n",
    "directed_graph = ox.graph_from_point((lat, lon), dist=400, network_type='drive') # Get surrounding area in N meter radius"
   ]
  },
  {
   "cell_type": "code",
   "execution_count": null,
   "metadata": {},
   "outputs": [],
   "source": [
    "# Remove road directions to get undirected graph\n",
    "graph = directed_graph.to_undirected()"
   ]
  },
  {
   "cell_type": "code",
   "execution_count": null,
   "metadata": {},
   "outputs": [],
   "source": [
    "# Select largest connected graph\n",
    "largest_connected_component = max(nx.connected_components(graph), key=len)\n",
    "graph = graph.subgraph(largest_connected_component).copy()"
   ]
  },
  {
   "cell_type": "code",
   "execution_count": null,
   "metadata": {
    "scrolled": true
   },
   "outputs": [],
   "source": [
    "# Generate plot to verify that graph is suitable\n",
    "generate_plot(graph)"
   ]
  },
  {
   "cell_type": "code",
   "execution_count": null,
   "metadata": {},
   "outputs": [],
   "source": [
    "# Given two nodes u and v from source_graph, copy the edge and its attributes to target_graph\n",
    "# Update path_length, traversed_edges and solution_path\n",
    "def copy_edge_to_solution(u, v, source_graph, target_graph):\n",
    "    global path_length, solution_path, traversed_edges\n",
    "\n",
    "    solution_path.append((u, v))\n",
    "    traversed_edges.add((u, v))\n",
    "    traversed_edges.add((v, u))\n",
    "\n",
    "    path_length += source_graph[u][v][0]['length']\n",
    "\n",
    "    data = source_graph[u][v][0]\n",
    "    target_graph.add_edge(u, v, **data)"
   ]
  },
  {
   "cell_type": "code",
   "execution_count": null,
   "outputs": [],
   "source": [
    "path_length = 0\n",
    "solution_path = []\n",
    "traversed_edges = set()\n",
    "\n",
    "# Generate initial (likely unoptimal) feasible solution\n",
    "def generate_initial_solution(graph):\n",
    "    global weight, solution_path, traversed_edges\n",
    "\n",
    "    # Configure solution graph\n",
    "    solution_graph = nx.MultiDiGraph() # Directed graph\n",
    "    solution_graph.graph['crs'] = graph.graph['crs']\n",
    "    solution_graph.add_nodes_from(graph.nodes(data=True)) # Copy all nodes (without edges)\n",
    "\n",
    "    # Start from a random vertex\n",
    "    # TODO: choice could be optimized\n",
    "    start_vertex = random.choice(list(graph.nodes))\n",
    "    edge_count = graph.number_of_edges()\n",
    "\n",
    "    # Keep track of path to backtrack our steps\n",
    "    path = [start_vertex]\n",
    "\n",
    "    # While there are nodes in path and while not all graph edges were traversed\n",
    "    while path and len(traversed_edges) < 2 * edge_count:\n",
    "        current_vertex = path[-1] # get the most recent node in path\n",
    "\n",
    "        neighbor_vertices = list(graph.neighbors(current_vertex))\n",
    "        unvisited_neighbors = [n for n in neighbor_vertices if (current_vertex, n) not in traversed_edges and (n, current_vertex) not in traversed_edges]\n",
    "\n",
    "        if unvisited_neighbors:\n",
    "            # Get neighbor with the smallest amount of neighbors\n",
    "            sorted_neighbors = sorted(unvisited_neighbors, key=lambda x: len(list(graph.neighbors(x))))\n",
    "            next_vertex = sorted_neighbors[0]\n",
    "\n",
    "            # Add the edge to the solution graph\n",
    "            copy_edge_to_solution(current_vertex, next_vertex, graph, solution_graph)\n",
    "\n",
    "            # Debugging\n",
    "            # fig, ax = ox.plot_graph(solution_graph, node_color='gray', edge_linewidth=2, bgcolor='white', show=True)\n",
    "\n",
    "            path.append(next_vertex)\n",
    "        else:\n",
    "            path.pop()  # backtrack\n",
    "            backstep_vertex = path[-1]\n",
    "\n",
    "            if path:\n",
    "                # Add the edge to the solution graph\n",
    "                copy_edge_to_solution(current_vertex, backstep_vertex, graph, solution_graph)\n",
    "\n",
    "    return solution_graph, solution_path\n",
    "\n",
    "solution, traversed_path = generate_initial_solution(graph)\n",
    "compare_graphs_by_connected_edges(graph, solution.to_undirected())\n",
    "animate_graph_traversal(graph, traversed_path)\n",
    "print(path_length)\n",
    "# print(solution_path)"
   ],
   "metadata": {
    "collapsed": false
   }
  },
  {
   "cell_type": "code",
   "execution_count": null,
   "metadata": {},
   "outputs": [],
   "source": [
    "# Compare solution against initial graph, to verify that all edges were indeed traversed\n",
    "generate_plot(graph)\n",
    "generate_plot(solution)"
   ]
  }
 ],
 "metadata": {
  "kernelspec": {
   "display_name": "Python 3 (ipykernel)",
   "language": "python",
   "name": "python3"
  },
  "language_info": {
   "codemirror_mode": {
    "name": "ipython",
    "version": 3
   },
   "file_extension": ".py",
   "mimetype": "text/x-python",
   "name": "python",
   "nbconvert_exporter": "python",
   "pygments_lexer": "ipython3",
   "version": "3.11.0rc1"
  }
 },
 "nbformat": 4,
 "nbformat_minor": 4
}
